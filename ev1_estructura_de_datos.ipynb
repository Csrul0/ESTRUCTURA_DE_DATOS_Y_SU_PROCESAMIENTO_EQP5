{
  "nbformat": 4,
  "nbformat_minor": 0,
  "metadata": {
    "colab": {
      "provenance": [],
      "authorship_tag": "ABX9TyNWukY/ILaUIx6jxY4AXKcA",
      "include_colab_link": true
    },
    "kernelspec": {
      "name": "python3",
      "display_name": "Python 3"
    },
    "language_info": {
      "name": "python"
    }
  },
  "cells": [
    {
      "cell_type": "markdown",
      "metadata": {
        "id": "view-in-github",
        "colab_type": "text"
      },
      "source": [
        "<a href=\"https://colab.research.google.com/github/Csrul0/ESTRUCTURA_DE_DATOS_Y_SU_PROCESAMIENTO_EQP5/blob/main/Untitled5.ipynb\" target=\"_parent\"><img src=\"https://colab.research.google.com/assets/colab-badge.svg\" alt=\"Open In Colab\"/></a>"
      ]
    },
    {
      "cell_type": "code",
      "execution_count": null,
      "metadata": {
        "id": "vAvwKMVoqrmW"
      },
      "outputs": [],
      "source": [
import datetime
import random

# Crear una lista para almacenar las notas
notas = []

# Contador global para generar folios únicos
contador_folios = 1

# Diccionario para almacenar las notas canceladas
notas_canceladas = {}

fecha_actual = datetime.date.today()

while True:
    print("MENU PRINCIPAL:")
    print("1. Registrar una nota")
    print("2. Consultar y Reportes")
    print("3. Cancelar una nota")
    print("4. Recuperar una nota")
    print("5. Salir")

    opcion = input("Escoja una opción (1/2/3/4/5): ")

    if opcion == "1":
        print("Ha escogido Registrar una nota")
        nombre = input("Ingrese su nombre: ")

        while not nombre.strip():  # Verificar que el nombre no esté vacío
            print("El nombre no puede estar vacío.")
            nombre = input("Ingrese su nombre: ")

        fecha = input("Ingrese la fecha (dd/mm/aaaa): ")

        try:
            fecha_nota = datetime.datetime.strptime(fecha, '%d/%m/%Y').date()
            if fecha_nota > fecha_actual:
                print("La fecha no puede ser posterior a la fecha actual.")
                continue
        except ValueError:
            print("Formato de fecha incorrecto. Use dd/mm/aaaa.")
            continue

        detalle = []
        while True:
            print("Ingrese el servicio libre (o presione Enter para terminar):")
            servicio_libre = input()
            if not servicio_libre:
                if not detalle:
                    print("Debe ingresar al menos un servicio.")
                    continue
                else:
                    break
            monto_servicio = input("Ingrese el monto del servicio libre: $")

            try:
                monto_servicio = float(monto_servicio)
                if monto_servicio <= 0:
                    print("El monto debe ser mayor que 0.")
                    continue
            except ValueError:
                print("El monto debe ser un número decimal válido.")
                continue

            detalle.append({"nombre": servicio_libre, "precio": monto_servicio})

        folio = contador_folios
        contador_folios += 1
        monto_total = sum(servicio["precio"] for servicio in detalle)
        nota = {
            "folio": folio,
            "fecha": fecha_nota,
            "nombre": nombre,
            "detalle": detalle,
            "monto_total": monto_total,
            "cancelada": False  # Inicialmente la nota no está cancelada
        }
        notas.append(nota)
        print(f"Su folio es: {folio}")
        print(f"La fecha: {fecha_nota}")
        print(f"Su nombre es: {nombre}")
        print("Detalle de la nota:")
        for servicio in detalle:
            print(f"- {servicio['nombre']}: ${servicio['precio']}")
        print(f"Monto total a pagar: ${monto_total}")
           elif opcion == "2":
        print("Ha escogido Consultar y Reportes")
        while True:
            print("SUBMENÚ DE CONSULTAS Y REPORTES:")
            print("1. Consulta por período")
            print("2. Consulta por folio")
            print("3. Volver al menú principal")

            subopcion = input("Escoja una opción (1/2/3): ")

            if subopcion == "1":
                print("Ha escogido Consulta por período")
                fecha_inicio = input("Dame la fecha de Inicio que sea en este formato: dd/mm/aaaa: \n")

                try:
                    fecha_inicioP = datetime.datetime.strptime(fecha_inicio, '%d/%m/%Y').date()
                except ValueError:
                    print("Formato de fecha incorrecto. Use dd/mm/aaaa.")
                    continue

                fecha_final = input("Dame la fecha de Final que sea en este formato: dd/mm/aaaa: \n")

                try:
                    fecha_finalP = datetime.datetime.strptime(fecha_final, '%d/%m/%Y').date()
                except ValueError:
                    print("Formato de fecha incorrecto. Use dd/mm/aaaa.")
                    continue

                notas_encontradas = []

                for nota in notas:
                    if fecha_inicioP <= nota["fecha"] <= fecha_finalP:
                        notas_encontradas.append(nota)

                if notas_encontradas:
                    print("Se encontraron notas para las fechas especificadas:")
                    print("FOLIO\tCLIENTE\t\tFECHA\tMONTO TOTAL")
                    for nota in notas_encontradas:
                        print(f"{nota['folio']}:\t{nota['nombre']}\t{nota['fecha']}\t${nota['monto_total']}")
                else:
                    print("No se encontraron notas para las fechas especificadas.")

            elif subopcion == "2":
                print("Ha escogido Consulta por folio")
                folio = input("Ingrese el folio de la nota a consultar: ")

                try:
                    folio = int(folio)
                except ValueError:
                    print("El folio debe ser un número entero.")
                    continue

                nota_encontrada = None

                for nota in notas:
                    if nota["folio"] == folio:
                        nota_encontrada = nota
                        break

                if nota_encontrada:
                    if nota_encontrada["cancelada"]:
                        print("Esta nota ha sido cancelada.")
                    else:
                        print("\nFOLIO\tCLIENTE\t\tFECHA\tMONTO TOTAL")
                        print(f"{folio}:\t{nota_encontrada['nombre']}\t{nota_encontrada['fecha']}\t${nota_encontrada['monto_total']}")
                        print("Detalle de la nota:")
                        for servicio in nota_encontrada["detalle"]:
                            print(f"- {servicio['nombre']}: ${servicio['precio']}")
                else:
                    print("La nota no existe en el sistema o ha sido cancelada.")

            elif subopcion == "3":
                break
            else:
                print("Opción no válida. Por favor, seleccione una opción válida (1/2/3).")

    elif opcion == "3":
        print("Ha escogido Cancelar una nota")
        folio_cancelar = input("Ingrese el folio de la nota a cancelar: ")

        try:
            folio_cancelar = int(folio_cancelar)
        except ValueError:
            print("El folio debe ser un número entero.")
            continue

        nota_encontrada = None

        for nota in notas:
            if nota["folio"] == folio_cancelar:
                nota_encontrada = nota
                break

        if nota_encontrada:
            if nota_encontrada["cancelada"]:
                print("Esta nota ya ha sido cancelada anteriormente.")
            else:
                print("Datos de la nota a cancelar:")
                print("\nFOLIO\tCLIENTE\t\tFECHA\tMONTO TOTAL")
                print(f"{folio_cancelar}:\t{nota_encontrada['nombre']}\t{nota_encontrada['fecha']}\t${nota_encontrada['monto_total']}")
                confirmacion = input("¿Desea cancelar esta nota? (Sí/No): ").strip().lower()
                if confirmacion == "si":
                    nota_encontrada["cancelada"] = True
                    notas_canceladas[folio_cancelar] = nota_encontrada
                    print("La nota ha sido cancelada exitosamente.")
                else:
                    print("La nota no ha sido cancelada.")
        else:
            print("El folio ingresado no existe en el sistema o corresponde a una nota cancelada.")

    elif opcion == "4":
        print("Ha escogido Recuperar una nota")
        if notas_canceladas:
            print("Notas canceladas disponibles:")
            print("FOLIO\tCLIENTE\t\tFECHA\tMONTO TOTAL")
            for folio, nota in notas_canceladas.items():
                print(f"{folio}:\t{nota['nombre']}\t{nota['fecha']}\t${nota['monto_total']}")
            folio_recuperar = input("Ingrese el folio de la nota a recuperar (0 para cancelar): ")

            try:
                folio_recuperar = int(folio_recuperar)
            except ValueError:
                print("El folio debe ser un número entero.")
                continue

            if folio_recuperar != 0:
                nota_recuperar = notas_canceladas.get(folio_recuperar)
                if nota_recuperar:
                    print("Detalle de la nota a recuperar:")
                    print("\nFOLIO\tCLIENTE\t\tFECHA\tMONTO TOTAL")
                    print(f"{folio_recuperar}:\t{nota_recuperar['nombre']}\t{nota_recuperar['fecha']}\t${nota_recuperar['monto_total']}")
                    confirmacion = input("¿Desea recuperar esta nota? (Sí/No): ").strip().lower()
                    if confirmacion == "si":
                        nota_recuperar["cancelada"] = False
                        notas.append(nota_recuperar)
                        del notas_canceladas[folio_recuperar]
                        print("La nota ha sido recuperada exitosamente.")
                    else:
                        print("La nota no ha sido recuperada.")
                else:
                    print("El folio ingresado no corresponde a una nota cancelada.")
            else:
                print("Operación cancelada.")
        else:
            print("No hay notas canceladas disponibles.")

    elif opcion == "5":
        break

    else:
        print("Opción no válida. Por favor, seleccione una opción válida (1/2/3/4/5).")

print("Gracias por usar el sistema.")
