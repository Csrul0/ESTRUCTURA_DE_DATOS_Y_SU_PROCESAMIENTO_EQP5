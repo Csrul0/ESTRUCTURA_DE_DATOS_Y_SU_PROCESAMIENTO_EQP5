{
  "nbformat": 4,
  "nbformat_minor": 0,
  "metadata": {
    "colab": {
      "provenance": [],
      "authorship_tag": "ABX9TyNWukY/ILaUIx6jxY4AXKcA",
      "include_colab_link": true
    },
    "kernelspec": {
      "name": "python3",
      "display_name": "Python 3"
    },
    "language_info": {
      "name": "python"
    }
  },
  "cells": [
    {
      "cell_type": "markdown",
@@ -7,18 +23,17 @@
        "colab_type": "text"
      },
      "source": [
        "<a href=\"https://colab.research.google.com/github/Csrul0/ESTRUCTURA_DE_DATOS_Y_SU_PROCESAMIENTO_EQP5/blob/main/ev1_estructura_de_datos.ipynb\" target=\"_parent\"><img src=\"https://colab.research.google.com/assets/colab-badge.svg\" alt=\"Open In Colab\"/></a>"
        "<a href=\"https://colab.research.google.com/github/Csrul0/ESTRUCTURA_DE_DATOS_Y_SU_PROCESAMIENTO_EQP5/blob/main/Untitled5.ipynb\" target=\"_parent\"><img src=\"https://colab.research.google.com/assets/colab-badge.svg\" alt=\"Open In Colab\"/></a>"
      ]
    },
    {
      "cell_type": "code",
      "execution_count": null,
      "metadata": {
        "id": "LSi1Vs-ulgVO"
        "id": "vAvwKMVoqrmW"
      },
      "outputs": [],
      "source": [
        "\n",
        "import datetime\n",
        "import random\n",
        "\n",
@@ -99,7 +114,7 @@
        "                print(\"Esta nota ha sido cancelada.\")\n",
        "            else:\n",
        "                print(\"\\nFOLIO\\tSERVICIO\\t\\tFECHA\\tCOSTO DEL SERVICIO\")\n",
        "                print(f\"{folio}:\\t{nota_encontrada['servicio']}\\t{nota_encontrada['fecha']}\\t\\t{nota_encontrada['precio']}\")\n",
        "                print(f\"{folio}:\\t{nota_encontrada['servicio']}\\t{nota_encontrada['fecha']}\\t{nota_encontrada['precio']}\")\n",
        "        else:\n",
        "            print(\"La nota no existe en el sistema o ha sido cancelada.\")\n",
        "\n",
@@ -119,7 +134,7 @@
        "            else:\n",
        "                print(\"Datos de la nota a cancelar:\")\n",
        "                print(\"\\nFOLIO\\tSERVICIO\\t\\tFECHA\\tCOSTO DEL SERVICIO\")\n",
        "                print(f\"{folio_cancelar}:\\t{nota_encontrada['servicio']}\\t{nota_encontrada['fecha']}\\t\\t{nota_encontrada['precio']}\")\n",
        "                print(f\"{folio_cancelar}:\\t{nota_encontrada['servicio']}\\t{nota_encontrada['fecha']}\\t{nota_encontrada['precio']}\")\n",
        "                confirmacion = input(\"¿Desea cancelar esta nota? (Sí/No): \").strip().lower()\n",
        "                if confirmacion == \"si\":\n",
        "                    nota_encontrada[\"cancelada\"] = True\n",
@@ -130,65 +145,39 @@
        "        else:\n",
        "            print(\"El folio ingresado no existe en el sistema o corresponde a una nota cancelada.\")\n",
        "\n",
        "  elif opcion == "3":
        "      fecha_inicio = input("Dame la fecha de Inicio que sea en este formato: dd/mm/aaaa: \n")
        "      fecha_inicioP = datetime.datetime.strptime(fecha_inicio, '%d/%m/%Y').date()
        "      fecha_final = input("Dame la fecha de Final que sea en este formato: dd/mm/aaaa: \n")
        "      fecha_finalP = datetime.datetime.strptime(fecha_final, '%d/%m/%Y').date()
        "      lista_fechas_encontradas = []
        "      for clave, (nombre, fecha, servicio) in notas.items():
        "         if fecha_inicioP <= fecha <= fecha_finalP:
        "            lista_fechas_encontradas.append(clave)
        "            if lista_fechas_encontradas:
        "               print("Se encontraron notas para las fechas especificadas:")
        "               for clave in lista_fechas_encontradas:
        "                   nombre, fecha, servicio = notas[clave]
        "                   nombre_servicio = Servicios[servicio]["nombre"]
        "                   precio_servicio = Servicios[servicio]["precio"]
        "                   print(f"Folio {clave}:")
        "                  print(f"Nombre del cliente: {nombre}")
        "                  print(f"Fecha: {fecha}")
        "                  print(f"Servicio: {nombre_servicio} ")
        "                  print(f"Precio del servicio: ${precio_servicio}")
        "        else:
        "             print("No se encontraron notas para las fechas especificadas.")
        "\n",
        "    elif opcion == \"4\":\n",
        "        print(\"Ha escogido Recuperar una nota\")\n",
        "        folio_recuperar = int(input(\"Ingrese el folio de la nota a recuperar: \"))\n",
        "        nota_recuperar = notas_canceladas.get(folio_recuperar)\n",
        "\n",
        "        if nota_recuperar:\n",
        "            nota_recuperar[\"cancelada\"] = False\n",
        "            notas.append(nota_recuperar)\n",
        "            del notas_canceladas[folio_recuperar]\n",
        "            print(\"La nota ha sido recuperada exitosamente.\")\n",
        "        fecha_inicio = input(\"Dame la fecha de Inicio que sea en este formato: dd/mm/aaaa: \\n\")\n",
        "        fecha_inicioP = datetime.datetime.strptime(fecha_inicio, '%d/%m/%Y').date()\n",
        "        fecha_final = input(\"Dame la fecha de Final que sea en este formato: dd/mm/aaaa: \\n\")\n",
        "        fecha_finalP = datetime.datetime.strptime(fecha_final, '%d/%m/%Y').date()\n",
        "        lista_fechas_encontradas = []\n",
        "\n",
        "        for clave, (nombre, fecha, servicio) in enumerate(notas):\n",
        "            if fecha_inicioP <= fecha <= fecha_finalP:\n",
        "                lista_fechas_encontradas.append(clave)\n",
        "\n",
        "        if lista_fechas_encontradas:\n",
        "            print(\"Se encontraron notas para las fechas especificadas:\")\n",
        "            for clave in lista_fechas_encontradas:\n",
        "                nombre, fecha, servicio = notas[clave]\n",
        "                nombre_servicio = servicios[servicio][\"nombre\"]\n",
        "                precio_servicio = servicios[servicio][\"precio\"]\n",
        "                print(f\"Folio {clave}:\")\n",
        "                print(f\"Nombre del cliente: {nombre}\")\n",
        "                print(f\"Fecha: {fecha}\")\n",
        "                print(f\"Servicio: {nombre_servicio}\")\n",
        "                print(f\"Precio del servicio: ${precio_servicio}\")\n",
        "        else:\n",
        "            print(\"El folio ingresado no corresponde a ninguna nota cancelada.\")\n",
        "            print(\"No se encontraron notas para las fechas especificadas.\")\n",
        "\n",
        "    elif opcion == \"5\":\n",
        "        break\n",
        "\n",
        "    else:\n",
        "        print(\"Opción no válida. Por favor, seleccione una opción válida (1/2/3/4/5).\")\n",
        "\n",
        "print(\"Gracias por usar el sistema.\")"
        "print(\"Gracias por usar el sistema.\")\n"
      ]
    }
  ],
  "metadata": {
    "colab": {
      "provenance": [],
      "include_colab_link": true
    },
    "kernelspec": {
      "display_name": "Python 3",
      "name": "python3"
    },
    "language_info": {
      "name": "python"
    }
  },
  "nbformat": 4,
  "nbformat_minor": 0
  ]
}
        break

    else:
